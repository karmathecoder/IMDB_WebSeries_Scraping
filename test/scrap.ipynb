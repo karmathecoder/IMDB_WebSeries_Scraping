{
 "cells": [
  {
   "cell_type": "code",
   "execution_count": 1,
   "id": "ba18e5d3",
   "metadata": {},
   "outputs": [],
   "source": [
    "from selenium import webdriver\n",
    "from selenium.webdriver.common.keys import Keys\n",
    "from selenium.webdriver.common.by import By\n",
    "from selenium.webdriver.chrome.options import Options\n",
    "from selenium.common.exceptions import NoSuchElementException\n",
    "import time\n",
    "import numpy as np"
   ]
  },
  {
   "cell_type": "code",
   "execution_count": 2,
   "id": "48a113ab",
   "metadata": {},
   "outputs": [],
   "source": [
    "website='https://www.imdb.com/search/keyword/?keywords=web-series'"
   ]
  },
  {
   "cell_type": "code",
   "execution_count": 3,
   "id": "c8ca601d",
   "metadata": {},
   "outputs": [
    {
     "name": "stderr",
     "output_type": "stream",
     "text": [
      "C:\\Users\\karma\\AppData\\Local\\Temp\\ipykernel_16340\\3976209643.py:1: DeprecationWarning: executable_path has been deprecated, please pass in a Service object\n",
      "  driver=webdriver.Chrome('selenium\\webdriver\\chrome\\chromedriver.exe')\n"
     ]
    }
   ],
   "source": [
    "driver=webdriver.Chrome('selenium\\webdriver\\chrome\\chromedriver.exe')\n",
    "driver.get(website)\n",
    "driver.maximize_window()"
   ]
  },
  {
   "cell_type": "code",
   "execution_count": 18,
   "id": "d02d931e",
   "metadata": {},
   "outputs": [],
   "source": [
    "title_l = []\n",
    "star_l = []\n",
    "rating_l = []\n",
    "genre_l = []\n",
    "discription_l = []"
   ]
  },
  {
   "cell_type": "code",
   "execution_count": null,
   "id": "451f39f3",
   "metadata": {},
   "outputs": [],
   "source": [
    "test = driver.find_element(By.XPATH,'//div[contains(@class,\"lister-item mode-detail\")]')\n",
    "title = test.find_element(By.XPATH,'.//h3[contains(@class,\"lister-item-header\")]/a')\n",
    "genre = test.find_element(By.XPATH,'.//p[contains(@class,\"text-muted text-small\")]//span[contains(@class,\"genre\")]')\n",
    "rating = test.find_element(By.XPATH,'.//div[contains(@class,\"ratings-bar\")]//div/strong')\n",
    "stars = test.find_elements(By.XPATH,'.//p[contains(@class,\"text-muted text-small\")]')\n",
    "description = test.find_element(By.XPATH,'.//p[@class=\"\"]')\n",
    "#test.get_attribute('outerHTML'), test.text\n",
    "#title.get_attribute('outerHTML'), title.text\n",
    "#genre.get_attribute('outerHTML'), genre.text\n",
    "#rating.get_attribute('outerHTML'), rating.text\n",
    "#stars[1].get_attribute('outerHTML'), stars[1].text\n",
    "description.get_attribute('outerHTML'), description.text"
   ]
  },
  {
   "cell_type": "code",
   "execution_count": null,
   "id": "3b84b70a",
   "metadata": {},
   "outputs": [],
   "source": [
    "test = driver.find_elements(By.XPATH,'//div[@class = \"lister-item mode-detail\"]')\n",
    "try :\n",
    "    dsample = test[28].find_element(By.XPATH,'.//div[contains(@class,\"ratings-bar\")]//div/strong')\n",
    "    print(dsample.text)\n",
    "except NoSuchElementException:\n",
    "    print('excerption')"
   ]
  },
  {
   "cell_type": "code",
   "execution_count": 19,
   "id": "dcf40a0f",
   "metadata": {},
   "outputs": [
    {
     "name": "stdout",
     "output_type": "stream",
     "text": [
      "50\n"
     ]
    }
   ],
   "source": [
    "main = driver.find_elements(By.XPATH,'//div[@class = \"lister-item mode-detail\"]')\n",
    "print(len(main))\n",
    "\n",
    "for i in range(50):\n",
    "    try :\n",
    "        title = main[i].find_element(By.XPATH,'.//h3[contains(@class,\"lister-item-header\")]/a')\n",
    "        title_l.append(title.text)\n",
    "    except NoSuchElementException:\n",
    "        title_l.append(np.nan)\n",
    "    \n",
    "    try :\n",
    "        genre = main[i].find_element(By.XPATH,'.//p[contains(@class,\"text-muted text-small\")]//span[contains(@class,\"genre\")]')\n",
    "        genre_l.append(genre.text)\n",
    "    except NoSuchElementException:\n",
    "        genre_l.append(np.nan)\n",
    "    \n",
    "    try :\n",
    "        rating = main[i].find_element(By.XPATH,'.//div[contains(@class,\"ratings-bar\")]//div/strong')\n",
    "        rating_l.append(rating.text)\n",
    "    except NoSuchElementException:\n",
    "        rating_l.append(np.nan)\n",
    "    \n",
    "    try :\n",
    "        stars = main[i].find_elements(By.XPATH,'.//p[contains(@class,\"text-muted text-small\")]')\n",
    "        star_l.append(stars[1].text)\n",
    "    except NoSuchElementException:\n",
    "        star_l.append(np.nan)\n",
    "        \n",
    "    try :\n",
    "        description = main[i].find_element(By.XPATH,'.//p[@class=\"\"]')\n",
    "        discription_l.append(description.text)\n",
    "    except:\n",
    "        discription_l.append(np.nan)"
   ]
  },
  {
   "cell_type": "code",
   "execution_count": 25,
   "id": "1d479696",
   "metadata": {},
   "outputs": [
    {
     "data": {
      "text/plain": [
       "50"
      ]
     },
     "execution_count": 25,
     "metadata": {},
     "output_type": "execute_result"
    }
   ],
   "source": [
    "len(genre_l)"
   ]
  },
  {
   "cell_type": "code",
   "execution_count": null,
   "id": "6e599db0",
   "metadata": {},
   "outputs": [],
   "source": [
    "test = driver.find_element('xpath','//div[@class=\"lister-item mode-detail\"]/div/h3')\n",
    "test.get_attribute('outerHTML'), test.text"
   ]
  },
  {
   "cell_type": "code",
   "execution_count": null,
   "id": "2f25d7bb",
   "metadata": {},
   "outputs": [],
   "source": [
    "test = driver.find_element('xpath','//div[@class=\"lister-item mode-detail\"]/div/div/div')\n",
    "test.get_attribute('outerHTML'), test.text"
   ]
  },
  {
   "cell_type": "code",
   "execution_count": null,
   "id": "b3aaff19",
   "metadata": {},
   "outputs": [],
   "source": [
    "test = driver.find_element('xpath','//div[@class=\"lister-item mode-detail\"]//p')\n",
    "test.get_attribute('outerHTML'), test.text"
   ]
  },
  {
   "cell_type": "code",
   "execution_count": null,
   "id": "f769f2c4",
   "metadata": {},
   "outputs": [],
   "source": [
    "test = driver.find_element('xpath','//div[@class=\"lister-list\"]/div/div/div/div')\n",
    "test.get_attribute('outerHTML'), test.text"
   ]
  },
  {
   "cell_type": "code",
   "execution_count": null,
   "id": "670fac48",
   "metadata": {},
   "outputs": [],
   "source": [
    "(driver.find_element('xpath','//div[@class=\"inline-block ratings-imdb-rating\"][\"data value\"]')).text"
   ]
  },
  {
   "cell_type": "code",
   "execution_count": null,
   "id": "2904796f",
   "metadata": {},
   "outputs": [],
   "source": [
    "title = driver.find_elements('xpath','//h3[@class=\"lister-item-header\"]/a')"
   ]
  },
  {
   "cell_type": "code",
   "execution_count": null,
   "id": "d44434af",
   "metadata": {},
   "outputs": [],
   "source": [
    "# title=driver.find_elements('xpath','//h3[@class=\"lister-item-header\"]/a')"
   ]
  },
  {
   "cell_type": "code",
   "execution_count": null,
   "id": "0ce06c3c",
   "metadata": {},
   "outputs": [],
   "source": [
    "# print(title)"
   ]
  },
  {
   "cell_type": "code",
   "execution_count": null,
   "id": "2c0ccb5a",
   "metadata": {},
   "outputs": [],
   "source": [
    "for i in title:\n",
    "    print(i.text)"
   ]
  },
  {
   "cell_type": "code",
   "execution_count": null,
   "id": "e40c74a4",
   "metadata": {},
   "outputs": [],
   "source": [
    "len(title)"
   ]
  },
  {
   "cell_type": "code",
   "execution_count": null,
   "id": "96b404c9",
   "metadata": {},
   "outputs": [],
   "source": [
    "stars=driver.find_elements(\"xpath\",'//p[@class=\"text-muted text-small\"][a]')"
   ]
  },
  {
   "cell_type": "code",
   "execution_count": null,
   "id": "e3a3fb64",
   "metadata": {},
   "outputs": [],
   "source": [
    "for i in stars:\n",
    "    print((i.text).replace(\"Stars: \", \"\"))"
   ]
  },
  {
   "cell_type": "code",
   "execution_count": null,
   "id": "7d32e090",
   "metadata": {},
   "outputs": [],
   "source": [
    "len(stars)"
   ]
  },
  {
   "cell_type": "code",
   "execution_count": null,
   "id": "13c19e53",
   "metadata": {},
   "outputs": [],
   "source": [
    "genre=driver.find_elements(\"xpath\",'//p[@class=\"text-muted text-small\"]/span[5]')"
   ]
  },
  {
   "cell_type": "code",
   "execution_count": null,
   "id": "ddef3671",
   "metadata": {},
   "outputs": [],
   "source": [
    "for i in genre:\n",
    "    print(i.text)"
   ]
  },
  {
   "cell_type": "code",
   "execution_count": null,
   "id": "9c979d2f",
   "metadata": {},
   "outputs": [],
   "source": [
    "len(genre)"
   ]
  },
  {
   "cell_type": "code",
   "execution_count": null,
   "id": "0835f389",
   "metadata": {},
   "outputs": [],
   "source": [
    "rating=driver.find_elements(\"xpath\",\"//div[@class='inline-block ratings-imdb-rating']['data value']\")"
   ]
  },
  {
   "cell_type": "code",
   "execution_count": null,
   "id": "37f63508",
   "metadata": {},
   "outputs": [],
   "source": [
    "for i in rating:\n",
    "    print(i.text)"
   ]
  },
  {
   "cell_type": "code",
   "execution_count": null,
   "id": "011ff987",
   "metadata": {},
   "outputs": [],
   "source": [
    "len(rating)"
   ]
  },
  {
   "cell_type": "code",
   "execution_count": null,
   "id": "020cbf47",
   "metadata": {},
   "outputs": [],
   "source": [
    "description=driver.find_elements(\"xpath\",'//p[@class=\"\"]')"
   ]
  },
  {
   "cell_type": "code",
   "execution_count": null,
   "id": "714e0291",
   "metadata": {},
   "outputs": [],
   "source": [
    "for i in description:\n",
    "    print(i.text)"
   ]
  },
  {
   "cell_type": "code",
   "execution_count": null,
   "id": "de19c491",
   "metadata": {},
   "outputs": [],
   "source": [
    "year=driver.find_elements(\"xpath\",\"//span[@class='lister-item-year text-muted unbold']\")"
   ]
  },
  {
   "cell_type": "code",
   "execution_count": null,
   "id": "467ae1c7",
   "metadata": {},
   "outputs": [],
   "source": [
    "for i in year:\n",
    "    print(i.text)"
   ]
  },
  {
   "cell_type": "code",
   "execution_count": null,
   "id": "ae03af22",
   "metadata": {},
   "outputs": [],
   "source": [
    "import pandas as pd"
   ]
  },
  {
   "cell_type": "code",
   "execution_count": null,
   "id": "40a95bba",
   "metadata": {},
   "outputs": [],
   "source": [
    "series_list=pd.DataFrame(columns=['title','stars','descprition'])"
   ]
  },
  {
   "cell_type": "code",
   "execution_count": null,
   "id": "5efacaaa",
   "metadata": {},
   "outputs": [],
   "source": [
    "series_list"
   ]
  },
  {
   "cell_type": "code",
   "execution_count": null,
   "id": "fb789f56",
   "metadata": {},
   "outputs": [],
   "source": [
    "title_list=[]\n",
    "stars_list=[]\n",
    "rating_list=[]\n",
    "genre_list=[]\n",
    "description_list=[]\n",
    "year_list=[]"
   ]
  },
  {
   "cell_type": "code",
   "execution_count": null,
   "id": "633a2a46",
   "metadata": {},
   "outputs": [],
   "source": [
    "for t in title:\n",
    "    title_list.append(t.text)\n",
    "for s in stars:\n",
    "    stars_list.append(s.text)\n",
    "for r in rating:\n",
    "    rating_list.append(r.text)\n",
    "for g in genre:\n",
    "    genre_list.append(g.text)\n",
    "for d in description:\n",
    "    description_list.append(d.text)\n",
    "for y in year:\n",
    "    year_list.append(y.text)"
   ]
  },
  {
   "cell_type": "code",
   "execution_count": null,
   "id": "e10b37e0",
   "metadata": {},
   "outputs": [],
   "source": [
    "# series_dict={'Titles':title_list,'Star':stars_list,'Rating':rating_list,'Genre':genre_list,'Description':description_list}"
   ]
  },
  {
   "cell_type": "code",
   "execution_count": null,
   "id": "dcb244af",
   "metadata": {},
   "outputs": [],
   "source": [
    "series_dict={'Titles':title_list,'Star':stars_list,'Description':description_list,'Year':year_list}"
   ]
  },
  {
   "cell_type": "code",
   "execution_count": null,
   "id": "ce38d34f",
   "metadata": {},
   "outputs": [],
   "source": [
    "series_dict"
   ]
  },
  {
   "cell_type": "code",
   "execution_count": null,
   "id": "1afccb09",
   "metadata": {},
   "outputs": [],
   "source": [
    "len(title_list),len(stars_list),len(rating_list),len(genre_list),len(description_list)"
   ]
  },
  {
   "cell_type": "code",
   "execution_count": null,
   "id": "0fa69f11",
   "metadata": {
    "scrolled": true
   },
   "outputs": [],
   "source": [
    "a = {'Titles':title_list,'Star':stars_list,'Rating':rating_list,'Genre':genre_list,'Description':description_list}\n",
    "# data = pd.DataFrame.from_dict(a, orient='index')\n",
    "# data.transpose()\n",
    "data = pd.DataFrame.from_dict(a)"
   ]
  },
  {
   "cell_type": "code",
   "execution_count": null,
   "id": "bf08219c",
   "metadata": {},
   "outputs": [],
   "source": [
    "# df=pd.DataFrame.from_dict(series_dict)"
   ]
  },
  {
   "cell_type": "code",
   "execution_count": null,
   "id": "85f2bea2",
   "metadata": {},
   "outputs": [],
   "source": [
    "# df"
   ]
  },
  {
   "cell_type": "code",
   "execution_count": null,
   "id": "e40d1d5f",
   "metadata": {},
   "outputs": [],
   "source": [
    "print(len(title))"
   ]
  },
  {
   "cell_type": "code",
   "execution_count": null,
   "id": "77d26eb4",
   "metadata": {},
   "outputs": [],
   "source": [
    "len(rating)"
   ]
  },
  {
   "cell_type": "code",
   "execution_count": null,
   "id": "d737dd38",
   "metadata": {},
   "outputs": [],
   "source": [
    "len(genre)"
   ]
  },
  {
   "cell_type": "code",
   "execution_count": null,
   "id": "de50858d",
   "metadata": {},
   "outputs": [],
   "source": [
    "len(description)"
   ]
  },
  {
   "cell_type": "code",
   "execution_count": null,
   "id": "a53d7db1",
   "metadata": {},
   "outputs": [],
   "source": [
    "len(stars)"
   ]
  },
  {
   "cell_type": "code",
   "execution_count": null,
   "id": "644acede",
   "metadata": {},
   "outputs": [],
   "source": [
    "df.to_csv('series_data.csv',index=False)"
   ]
  },
  {
   "cell_type": "code",
   "execution_count": null,
   "id": "6f165234",
   "metadata": {},
   "outputs": [],
   "source": [
    "df.to_excel('series_xls.xlsx')"
   ]
  },
  {
   "cell_type": "code",
   "execution_count": null,
   "id": "988c0aef",
   "metadata": {},
   "outputs": [],
   "source": [
    "data.to_excel('final_data.xlsx',index=False)"
   ]
  },
  {
   "cell_type": "code",
   "execution_count": null,
   "id": "722e84ec",
   "metadata": {},
   "outputs": [],
   "source": [
    "data=pd.read_excel('final_data.xlsx')"
   ]
  },
  {
   "cell_type": "code",
   "execution_count": null,
   "id": "a5e87056",
   "metadata": {},
   "outputs": [],
   "source": [
    "data.transpose()\n",
    "data.head()"
   ]
  },
  {
   "cell_type": "code",
   "execution_count": null,
   "id": "c24a0b99",
   "metadata": {},
   "outputs": [],
   "source": [
    "type(rating)"
   ]
  },
  {
   "cell_type": "code",
   "execution_count": null,
   "id": "5191da02",
   "metadata": {},
   "outputs": [],
   "source": []
  }
 ],
 "metadata": {
  "kernelspec": {
   "display_name": "Python 3 (ipykernel)",
   "language": "python",
   "name": "python3"
  },
  "language_info": {
   "codemirror_mode": {
    "name": "ipython",
    "version": 3
   },
   "file_extension": ".py",
   "mimetype": "text/x-python",
   "name": "python",
   "nbconvert_exporter": "python",
   "pygments_lexer": "ipython3",
   "version": "3.10.5"
  }
 },
 "nbformat": 4,
 "nbformat_minor": 5
}
