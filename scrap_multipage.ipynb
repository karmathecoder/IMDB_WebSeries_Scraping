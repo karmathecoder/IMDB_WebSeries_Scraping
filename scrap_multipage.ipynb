{
 "cells": [
  {
   "cell_type": "markdown",
   "id": "bae18bdf",
   "metadata": {},
   "source": [
    "## <font color = \"green\"> Importing Libraries"
   ]
  },
  {
   "cell_type": "code",
   "execution_count": 1,
   "id": "ba18e5d3",
   "metadata": {},
   "outputs": [],
   "source": [
    "from selenium import webdriver\n",
    "from selenium.webdriver.common.by import By\n",
    "from selenium.common.exceptions import NoSuchElementException\n",
    "import numpy as np\n",
    "import pandas as pd"
   ]
  },
  {
   "cell_type": "markdown",
   "id": "0c682f66",
   "metadata": {},
   "source": [
    "## <font color = \"green\"> Website link and Driver Initiation"
   ]
  },
  {
   "cell_type": "code",
   "execution_count": 2,
   "id": "48a113ab",
   "metadata": {},
   "outputs": [],
   "source": [
    "website='https://www.imdb.com/search/keyword/?keywords=web-series'"
   ]
  },
  {
   "cell_type": "code",
   "execution_count": 3,
   "id": "c8ca601d",
   "metadata": {},
   "outputs": [
    {
     "name": "stderr",
     "output_type": "stream",
     "text": [
      "C:\\Users\\karma\\AppData\\Local\\Temp\\ipykernel_15864\\451847233.py:4: DeprecationWarning: executable_path has been deprecated, please pass in a Service object\n",
      "  driver=webdriver.Chrome(driver_loc)\n"
     ]
    }
   ],
   "source": [
    "#driver_loc = 'C:\\Webdriver\\chromedriver.exe'\n",
    "driver_loc = 'webdriver\\chrome\\chromedriver.exe'\n",
    "\n",
    "driver=webdriver.Chrome(driver_loc)\n",
    "driver.get(website)\n",
    "driver.maximize_window()"
   ]
  },
  {
   "cell_type": "markdown",
   "id": "2c6ee436",
   "metadata": {},
   "source": [
    "## <font color = \"green\"> Creating List for Required Data"
   ]
  },
  {
   "cell_type": "code",
   "execution_count": 4,
   "id": "bc732e2b",
   "metadata": {},
   "outputs": [],
   "source": [
    "title_l = []\n",
    "star_l = []\n",
    "rating_l = []\n",
    "genre_l = []\n",
    "discription_l = []"
   ]
  },
  {
   "cell_type": "markdown",
   "id": "6fdb5924",
   "metadata": {},
   "source": [
    "## <font color = \"red\"> Fetching Data and appending in list"
   ]
  },
  {
   "cell_type": "code",
   "execution_count": 7,
   "id": "dcf40a0f",
   "metadata": {},
   "outputs": [],
   "source": [
    "def getting_single_page_data(title_l, star_l, rating_l, genre_l, discription_l):\n",
    "    main = driver.find_elements(By.XPATH,'//div[@class = \"lister-item mode-detail\"]')\n",
    "    for i in range(50):\n",
    "        try :\n",
    "            title = main[i].find_element(By.XPATH,'.//h3[contains(@class,\"lister-item-header\")]/a')\n",
    "            title_l.append(title.text)\n",
    "        except NoSuchElementException:\n",
    "            title_l.append(np.nan)\n",
    "\n",
    "        try :\n",
    "            genre = main[i].find_element(By.XPATH,'.//p[contains(@class,\"text-muted text-small\")]//span[contains(@class,\"genre\")]')\n",
    "            genre_l.append(genre.text)\n",
    "        except NoSuchElementException:\n",
    "            genre_l.append(np.nan)\n",
    "\n",
    "        try :\n",
    "            rating = main[i].find_element(By.XPATH,'.//div[contains(@class,\"ratings-bar\")]//div/strong')\n",
    "            rating_l.append(float(rating.text))\n",
    "        except NoSuchElementException:\n",
    "            rating_l.append(np.nan)\n",
    "\n",
    "        try :\n",
    "            stars = main[i].find_elements(By.XPATH,'.//p[contains(@class,\"text-muted text-small\")]')\n",
    "            try :\n",
    "                stars = stars[1].text\n",
    "                slice_index = stars.find(':') + 2\n",
    "                stars_string = stars[slice_index:]\n",
    "                star_l.append(stars_string)\n",
    "            except IndexError:\n",
    "                star_l.append(np.nan)\n",
    "        except NoSuchElementException:\n",
    "            star_l.append(np.nan)\n",
    "\n",
    "        try :\n",
    "            description = main[i].find_element(By.XPATH,'.//p[@class=\"\"]')\n",
    "            discription_l.append(description.text)\n",
    "        except:\n",
    "            discription_l.append(np.nan)"
   ]
  },
  {
   "cell_type": "code",
   "execution_count": 8,
   "id": "f1914f43",
   "metadata": {},
   "outputs": [],
   "source": [
    "getting_single_page_data(title_l, star_l, rating_l, genre_l, discription_l)"
   ]
  },
  {
   "cell_type": "raw",
   "id": "40acf207",
   "metadata": {},
   "source": [
    "i = 0\n",
    "main = driver.find_elements(By.XPATH,'//div[@class = \"lister-item mode-detail\"]')\n",
    "stars = main[i].find_elements(By.XPATH,'.//p[contains(@class,\"text-muted text-small\")]')\n",
    "\n",
    "stars = stars[1].text\n",
    "split = stars.find(':')+2\n",
    "split\n",
    "stars[split:]"
   ]
  },
  {
   "cell_type": "code",
   "execution_count": null,
   "id": "ffbe0ef2",
   "metadata": {},
   "outputs": [],
   "source": [
    "import time\n",
    "while True:\n",
    "    try:\n",
    "        getting_single_page_data(title_l, star_l, rating_l, genre_l, discription_l)\n",
    "        next_button = driver.find_element(By.XPATH,'//a[@class = \"list`er-page-next next-page\"]')\n",
    "        next_button.click()\n",
    "        print(driver.find_element(By.CLASS_NAME,'lister-current-last-item').text)\n",
    "        time.sleep(5)\n",
    "        \n",
    "    except NoSuchElementException:\n",
    "        break"
   ]
  },
  {
   "cell_type": "markdown",
   "id": "f760b78a",
   "metadata": {},
   "source": [
    "## <font color = \"green\"> Exploring first 5 data of all list one by one"
   ]
  },
  {
   "cell_type": "code",
   "execution_count": 9,
   "id": "39504e11",
   "metadata": {},
   "outputs": [
    {
     "data": {
      "text/plain": [
       "['Stranger Things',\n",
       " 'Stranger Things',\n",
       " 'The Umbrella Academy',\n",
       " 'Harley Quinn',\n",
       " 'Black Mirror']"
      ]
     },
     "execution_count": 9,
     "metadata": {},
     "output_type": "execute_result"
    }
   ],
   "source": [
    "title_l[:5]"
   ]
  },
  {
   "cell_type": "code",
   "execution_count": 10,
   "id": "3f594f2b",
   "metadata": {},
   "outputs": [
    {
     "data": {
      "text/plain": [
       "['Millie Bobby Brown, Finn Wolfhard, Winona Ryder, David Harbour',\n",
       " 'Elliot Page, Tom Hopper, David Castañeda, Emmy Raver-Lampman',\n",
       " 'Kaley Cuoco, Lake Bell, Alan Tudyk, Ron Funches',\n",
       " 'Daniel Lapaine, Hannah John-Kamen, Michaela Coel, Beatrice Robertson-Jones',\n",
       " 'Asa Butterfield, Gillian Anderson, Ncuti Gatwa, Emma Mackey']"
      ]
     },
     "execution_count": 10,
     "metadata": {},
     "output_type": "execute_result"
    }
   ],
   "source": [
    "star_l[:5]"
   ]
  },
  {
   "cell_type": "code",
   "execution_count": 11,
   "id": "bfb0f7c4",
   "metadata": {},
   "outputs": [
    {
     "data": {
      "text/plain": [
       "[8.7, 8.7, 7.9, 8.5, 8.8]"
      ]
     },
     "execution_count": 11,
     "metadata": {},
     "output_type": "execute_result"
    }
   ],
   "source": [
    "rating_l[:5]"
   ]
  },
  {
   "cell_type": "code",
   "execution_count": 12,
   "id": "21389747",
   "metadata": {},
   "outputs": [
    {
     "data": {
      "text/plain": [
       "['Drama, Fantasy, Horror',\n",
       " 'Drama, Fantasy, Horror',\n",
       " 'Action, Adventure, Comedy',\n",
       " 'Animation, Action, Adventure',\n",
       " 'Drama, Mystery, Sci-Fi']"
      ]
     },
     "execution_count": 12,
     "metadata": {},
     "output_type": "execute_result"
    }
   ],
   "source": [
    "genre_l[:5]"
   ]
  },
  {
   "cell_type": "code",
   "execution_count": 13,
   "id": "1e66a450",
   "metadata": {},
   "outputs": [
    {
     "data": {
      "text/plain": [
       "['When a young boy disappears, his mother, a police chief and his friends must confront terrifying supernatural forces in order to get him back.',\n",
       " 'A family of former child heroes, now grown apart, must reunite to continue to protect the world.',\n",
       " 'The series focuses on a single Harley Quinn, who sets off to make it on her own in Gotham City.',\n",
       " \"An anthology series exploring a twisted, high-tech multiverse where humanity's greatest innovations and darkest instincts collide.\",\n",
       " 'A teenage boy with a sex therapist mother teams up with a high school classmate to set up an underground sex therapy clinic at school.']"
      ]
     },
     "execution_count": 13,
     "metadata": {},
     "output_type": "execute_result"
    }
   ],
   "source": [
    "discription_l[:5]"
   ]
  },
  {
   "cell_type": "markdown",
   "id": "f0ac41e6",
   "metadata": {},
   "source": [
    "## <font color = \"green\"> Checking Length"
   ]
  },
  {
   "cell_type": "code",
   "execution_count": null,
   "id": "6ad2086d",
   "metadata": {},
   "outputs": [],
   "source": [
    "len(title_l),len(star_l),len(rating_l),len(genre_l),len(discription_l)"
   ]
  },
  {
   "cell_type": "markdown",
   "id": "6dd0b531",
   "metadata": {},
   "source": [
    "## <font color = \"green\"> Creating DataFrame using panmdas"
   ]
  },
  {
   "cell_type": "code",
   "execution_count": null,
   "id": "799cd481",
   "metadata": {},
   "outputs": [],
   "source": [
    "dictonary_data_modified = {'Titles':title_l,'Star':star_l,'Rating':rating_l,'Genre':genre_l,'Description':discription_l}\n",
    "dictonary_data_modified"
   ]
  },
  {
   "cell_type": "code",
   "execution_count": null,
   "id": "3237e2cb",
   "metadata": {},
   "outputs": [],
   "source": [
    "data = pd.DataFrame.from_dict(dictonary_data_modified)\n",
    "data"
   ]
  },
  {
   "cell_type": "markdown",
   "id": "1c331c1b",
   "metadata": {},
   "source": [
    "## <font color = \"green\"> Exporting Complete Dataframe to CSV"
   ]
  },
  {
   "cell_type": "code",
   "execution_count": null,
   "id": "2d688326",
   "metadata": {},
   "outputs": [],
   "source": [
    "data.to_csv('imdb_data_webseries_all_6913.csv')"
   ]
  },
  {
   "cell_type": "markdown",
   "id": "266325af",
   "metadata": {},
   "source": [
    "# <font color =\"red\"> hello"
   ]
  },
  {
   "cell_type": "code",
   "execution_count": null,
   "id": "8cfffd39",
   "metadata": {},
   "outputs": [],
   "source": []
  }
 ],
 "metadata": {
  "kernelspec": {
   "display_name": "Python 3 (ipykernel)",
   "language": "python",
   "name": "python3"
  },
  "language_info": {
   "codemirror_mode": {
    "name": "ipython",
    "version": 3
   },
   "file_extension": ".py",
   "mimetype": "text/x-python",
   "name": "python",
   "nbconvert_exporter": "python",
   "pygments_lexer": "ipython3",
   "version": "3.10.5"
  }
 },
 "nbformat": 4,
 "nbformat_minor": 5
}
